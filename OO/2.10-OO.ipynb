{
 "cells": [
  {
   "cell_type": "markdown",
   "metadata": {},
   "source": [
    "> Projeto Desenvolve <br>\n",
    "Programação Intermediária com Python <br>\n",
    "Profa. Camila Laranjeira (mila@projetodesenvolve.com.br) <br>\n",
    "\n",
    "# 2.5 a 2.10 - Pilares da OO"
   ]
  },
  {
   "cell_type": "markdown",
   "metadata": {},
   "source": [
    "## Exercícios\n",
    "\n",
    "#### Q1.\n",
    "Essa lista de exercícios terá como base a classe `Evento` criada em exercícios anteriores. Primeiramente criaremos a classe abstrata `EventoABC` com os métodos de instância abstratos `__str__(self)` e `isConcluido(self)`, indicando que todos as subclasses que dela herdarem devem implementar esses métodos.\n",
    "\n",
    "`EventoABC` também possui os atributos `_titulo` (string) e `_descricao` (string), cujos valores são recebidos e inicializados no construtor da classe. Note a convenção de nomenclatura indicando o caráter privado desses atributos."
   ]
  },
  {
   "cell_type": "code",
   "execution_count": 11,
   "metadata": {},
   "outputs": [],
   "source": [
    "from abc import ABC, abstractmethod\n",
    "import datetime\n",
    "class EventoABC(ABC):\n",
    "    \n",
    "    def __init__(self,titulo,descricao):\n",
    "        self._titulo=titulo\n",
    "        self._descricao=descricao\n",
    "\n",
    "    @abstractmethod\n",
    "    def __str__(self):\n",
    "        pass\n",
    "\n",
    "    @abstractmethod\n",
    "    def __isConcluido(self):\n",
    "        pass\n"
   ]
  },
  {
   "cell_type": "markdown",
   "metadata": {
    "vscode": {
     "languageId": "plaintext"
    }
   },
   "source": [
    "#### Q2.\n",
    "\n",
    "Crie a classe `DataHora` que dará suporte ao registro de eventos de calendário.\n",
    "* A classe possui o atributo de instância `_data_hora` (datetime) privado e um atributo de classe `FORMAT` inicializado com a formatação de string aceito para `_data_hora`, ou seja, `FORMAT = '%d/%m/%Y, %H:%M'`.\n",
    "* A classe **não possui construtor customizado**. A alteração de seu atributo se dará a partir da propriedade a seguir.\n",
    "* Crie a `property` `data_hora` para manipular o atributo `_data_hora`.\n",
    "    * O getter da propriedade deve retornar a data como uma string formatada (`%d/%m/%Y, %H:%M`). Use o atributo `FORMAT`. Consulte o [funcionamento do método `strftime`](https://www.programiz.com/python-programming/datetime/strftime).\n",
    "    * O setter da propriedade deve receber uma string de data formatada (`%d/%m/%Y, %H:%M`) e implementar um bloco try-except que tenta converter a string em `datetime` e lança um `ValueError` caso a entrada seja inválida. Use o atributo `FORMAT`. Consulte o [funcionamento do método `strptime`](https://www.digitalocean.com/community/tutorials/python-string-to-datetime-strptime).\n",
    "* Crie o método de instância `isPassado(self)` que avalia se a `_data_hora` é menor que `datetime.now()` (a data e hora atual) e retorna `True` em caso positivo, e `False` caso contrário.\n",
    "* Crie o método de instância `somaDias(self, num_dias)` que recebe um inteiro `num_dias`, soma esse valor ao atributo interno `_data_hora` e retorna a string formatada do resultado da soma (código dado a seguir).   \n",
    "```python\n",
    "data_hora_somada = self._data_hora + datetime.timedelta(days=num_dias)\n",
    "return data_hora_somada.strftime(FORMAT)\n",
    "```\n",
    "\n",
    "Teste a classe `DataHora` com o seguinte código (altere o que for necessário):\n",
    "```python\n",
    "# instanciando o objeto\n",
    "dh = DataHora()\n",
    "\n",
    "# definindo a data_hora através da propriedade\n",
    "dh.data_hora = '05/02/2024, 12:30'\n",
    "\n",
    "## editando a data_hora através da função somaDias\n",
    "dh.data_hora = dh.somaDias(30)\n",
    "\n",
    "## imprimindo a data_hora editada e se é passado\n",
    "print(dh.data_hora, dh.isPassado())\n",
    "```"
   ]
  },
  {
   "cell_type": "code",
   "execution_count": 12,
   "metadata": {},
   "outputs": [
    {
     "name": "stdout",
     "output_type": "stream",
     "text": [
      "15/10/2024, 15:30\n",
      "True\n",
      "14/11/2024, 15:30\n",
      "False\n"
     ]
    }
   ],
   "source": [
    "from datetime import datetime, timedelta\n",
    "class DataHora:\n",
    "    FORMAT = '%d/%m/%Y, %H:%M'\n",
    "    def __init__(self, _data_hora=\"\"):\n",
    "        self._data_hora= _data_hora\n",
    "    \n",
    "    def isPassado(self):\n",
    "        return True if self._data_hora<datetime.now() else False\n",
    "    \n",
    "    def somaDias(self, num_dias):\n",
    "        data_hora_somada = self._data_hora + timedelta(days=num_dias)\n",
    "        return data_hora_somada.strftime(DataHora.FORMAT)\n",
    "\n",
    "\n",
    "    @property\n",
    "    def data_hora(self):\n",
    "        return self._data_hora.strftime(self.FORMAT)\n",
    "    \n",
    "    @data_hora.setter\n",
    "    def data_hora(self, valor):\n",
    "        self._data_hora = datetime.strptime(valor, self.FORMAT)\n",
    "\n",
    "dh = DataHora()\n",
    "dh.data_hora = '15/10/2024, 15:30'\n",
    "print(dh.data_hora)\n",
    "print(dh.isPassado())\n",
    "dh.data_hora = dh.somaDias(30)\n",
    "print(dh.data_hora)\n",
    "print(dh.isPassado())\n"
   ]
  },
  {
   "cell_type": "markdown",
   "metadata": {},
   "source": [
    "#### Q3.\n",
    "Crie a classe `EventoUnico`:\n",
    "* A classe deve herdar de `EventoABC`.\n",
    "* Possui o atributo de instância `_data_hora` (classe `DataHora` que criamos previamente).\n",
    "* Seu construtor deve receber e inicializar os atributos da superclasse, além do valor de `_data_hora` recebido como uma string formatada (`%d/%m/%Y, %H:%M`). Note que para alterar `_data_hora` (objeto tipo `DataHora`), você deve manipular a propriedade interna da classe.\n",
    "*  Implementa os métodos abstratos da superclasse:\n",
    "    * Método `isConcluido()` que invoca o método `isPassado()` de `_data_hora` e retorna o seu resultado.\n",
    "    * Método `__str__` que imprime os atributos do evento na forma `\"Evento: _titulo, Data: _data_hora, Descrição: _descricao, Concluido: isConcluido()\"`. Note que `isConcluido()` é o método de avaliação implementado. \n",
    "* Crie o método de instância `editar_data_hora` que recebe uma string formatada e altera `_data_hora` (através de sua propriedade interna).\n",
    "    \n",
    "    \n",
    "Teste a classe `EventoUnico` com o seguinte código:\n",
    "```python\n",
    "# criar evento\n",
    "evento = EventoUnico('Reunião', 'Sala 302, prédio da esquina', '05/10/2023, 16:30')\n",
    "print(evento)\n",
    "\n",
    "# editar data do evento (através da propriedade)\n",
    "evento.editar_data_hora('05/10/2024, 16:30')\n",
    "print(evento)\n",
    "```"
   ]
  },
  {
   "cell_type": "code",
   "execution_count": 13,
   "metadata": {},
   "outputs": [
    {
     "name": "stdout",
     "output_type": "stream",
     "text": [
      "Evento: Reunião, Data: 05/10/2023, 15:30, Local: Sala 302, prédio da esquina, Concluido: True\n",
      "Evento: Reunião, Data: 05/10/2024, 16:30, Local: Sala 302, prédio da esquina, Concluido: True\n"
     ]
    }
   ],
   "source": [
    "#### Classe EventoUnico\n",
    "class EventoUnico(EventoABC):\n",
    "        def __init__(self, titulo, descricao, _data_horastr):\n",
    "            super().__init__(titulo,descricao)\n",
    "            self.titulo = titulo\n",
    "            self.descricao = descricao\n",
    "            self._data_hora = DataHora()\n",
    "            self._data_hora.data_hora = _data_horastr\n",
    "\n",
    "        def _EventoABC__isConcluido(self):\n",
    "              return DataHora.isPassado(self._data_hora)\n",
    "        \n",
    "        def __str__(self):\n",
    "              return f\"Evento: {self.titulo}, Data: {self._data_hora.data_hora}, Local: {self.descricao}, Concluido: {self._EventoABC__isConcluido()}\"\n",
    "        def editar_data_hora(self,nova_data):\n",
    "              self._data_hora.data_hora = nova_data\n",
    "              \n",
    "\n",
    "evento = EventoUnico('Reunião', 'Sala 302, prédio da esquina', '05/10/2023, 15:30')\n",
    "print(evento)\n",
    "evento.editar_data_hora('05/10/2024, 16:30')\n",
    "print(evento)"
   ]
  },
  {
   "cell_type": "markdown",
   "metadata": {},
   "source": [
    "#### Q3.\n",
    "Crie a classe `EventoRecorrente`:\n",
    "* A classe deve herdar de `EventoABC`.\n",
    "* Possui como atributo próprio uma lista privada de objetos `DataHora` (como você deve nomear o atributo?).\n",
    "* Seu construtor recebe os atributos da superclasse, além dos atributos `data_hora_inicial` (string formatada), `data_hora_final` (string formatada) e `intervalo_repeticao` (int), sendo o intervalo dado em dias. Preencha a coleção `DataHora` de acordo com o intervalo de repetição fornecido. Dica: crie o objeto `DataHora` inicial e use sua função interna `somaDias` para criar iterativamente as novas instâncias do intervalo até chegar em `DataHora` final. \n",
    "*  Implementa os métodos abstratos da superclasse:\n",
    "    * Método `isConcluido(indice)` que que invoca o método `isPassado()` do elemento `indice` da coleção de objetos `DataHora` e retorna seu resultado. \n",
    "    * Método `__str__` que imprime (em um laço) **todos as ocorrências `i` do evento** na forma `\"Evento: _titulo, Data: data_hora[i], Descrição: _descricao, Concluido: isConcluido(i)\"`. \n",
    "* Crie o método `editar_data_hora` que recebe `data_hora_antiga` e `data_hora_nova` e altera o elemento da coleção de objetos `DataHora` que corresponde a `data_hora_antiga` fornecida.    \n",
    "\n",
    "\n",
    "Teste a classe `EventoRecorrente` com o seguinte código:\n",
    "```python\n",
    "# criar evento\n",
    "eventos = EventoRecorrente(\n",
    "    'Reunião', 'Sala 302, prédio da esquina', \n",
    "    '05/01/2024, 16:30', '05/01/2025, 16:30', 30)\n",
    "\n",
    "# imprimir eventos\n",
    "print(eventos)\n",
    "\n",
    "# editar um dos eventos\n",
    "eventos.editar_data_hora('05/12/2024, 16:30', '05/12/2024, 11:30')\n",
    "\n",
    "# imprimir eventos\n",
    "print(eventos)\n",
    "```"
   ]
  },
  {
   "cell_type": "code",
   "execution_count": 14,
   "metadata": {},
   "outputs": [
    {
     "name": "stdout",
     "output_type": "stream",
     "text": [
      "Evento: Reunião, Data: 05/01/2024, 16:30, Local: Sala 302, prédio da esquina, Concluido: True\n",
      "Evento: Reunião, Data: 04/02/2024, 16:30, Local: Sala 302, prédio da esquina, Concluido: True\n",
      "Evento: Reunião, Data: 05/03/2024, 16:30, Local: Sala 302, prédio da esquina, Concluido: True\n",
      "Evento: Reunião, Data: 04/04/2024, 16:30, Local: Sala 302, prédio da esquina, Concluido: True\n",
      "Evento: Reunião, Data: 04/05/2024, 16:30, Local: Sala 302, prédio da esquina, Concluido: True\n",
      "Evento: Reunião, Data: 03/06/2024, 16:30, Local: Sala 302, prédio da esquina, Concluido: True\n",
      "Evento: Reunião, Data: 03/07/2024, 16:30, Local: Sala 302, prédio da esquina, Concluido: True\n",
      "Evento: Reunião, Data: 02/08/2024, 16:30, Local: Sala 302, prédio da esquina, Concluido: True\n",
      "Evento: Reunião, Data: 01/09/2024, 16:30, Local: Sala 302, prédio da esquina, Concluido: True\n",
      "Evento: Reunião, Data: 01/10/2024, 16:30, Local: Sala 302, prédio da esquina, Concluido: True\n",
      "Evento: Reunião, Data: 31/10/2024, 16:30, Local: Sala 302, prédio da esquina, Concluido: False\n",
      "Evento: Reunião, Data: 30/11/2024, 16:30, Local: Sala 302, prédio da esquina, Concluido: False\n",
      "Evento: Reunião, Data: 30/12/2024, 16:30, Local: Sala 302, prédio da esquina, Concluido: False\n",
      "------------------------------------------\n",
      "Evento: Reunião, Data: 05/01/2024, 16:30, Local: Sala 302, prédio da esquina, Concluido: True\n",
      "Evento: Reunião, Data: 04/02/2024, 16:30, Local: Sala 302, prédio da esquina, Concluido: True\n",
      "Evento: Reunião, Data: 05/03/2024, 16:30, Local: Sala 302, prédio da esquina, Concluido: True\n",
      "Evento: Reunião, Data: 04/04/2024, 16:30, Local: Sala 302, prédio da esquina, Concluido: True\n",
      "Evento: Reunião, Data: 04/05/2024, 16:30, Local: Sala 302, prédio da esquina, Concluido: True\n",
      "Evento: Reunião, Data: 03/06/2024, 16:30, Local: Sala 302, prédio da esquina, Concluido: True\n",
      "Evento: Reunião, Data: 03/07/2024, 16:30, Local: Sala 302, prédio da esquina, Concluido: True\n",
      "Evento: Reunião, Data: 02/08/2024, 16:30, Local: Sala 302, prédio da esquina, Concluido: True\n",
      "Evento: Reunião, Data: 01/09/2024, 16:30, Local: Sala 302, prédio da esquina, Concluido: True\n",
      "Evento: Reunião, Data: 01/10/2024, 16:30, Local: Sala 302, prédio da esquina, Concluido: True\n",
      "Evento: Reunião, Data: 31/10/2024, 16:30, Local: Sala 302, prédio da esquina, Concluido: False\n",
      "Evento: Reunião, Data: 30/11/2024, 11:30, Local: Sala 302, prédio da esquina, Concluido: False\n",
      "Evento: Reunião, Data: 30/12/2024, 16:30, Local: Sala 302, prédio da esquina, Concluido: False\n"
     ]
    }
   ],
   "source": [
    "class EventoRecorrente(EventoABC):\n",
    "    __LISTA= []\n",
    "    def __init__(self, titulo, descricao, data_hora_inicial, data_hora_final, intervalo):\n",
    "        super().__init__(titulo,descricao)\n",
    "        self.titulo = titulo\n",
    "        self.descricao = descricao\n",
    "        self.data_hora_inicial= DataHora()\n",
    "        self.data_hora_inicial.data_hora = data_hora_inicial\n",
    "        self.data_hora_final= DataHora()\n",
    "        self.data_hora_final.data_hora = data_hora_final\n",
    "        self._data_hora = self.data_hora_inicial\n",
    "        self.intervalo = intervalo\n",
    "        EventoRecorrente.__LISTA=[]\n",
    "        self.addLista()\n",
    "    \n",
    "    def _EventoABC__isConcluido(self, indice):\n",
    "        data = DataHora()\n",
    "        data.data_hora = EventoRecorrente.__LISTA[indice]\n",
    "        return DataHora.isPassado(data)\n",
    "    \n",
    "    def __str__(self):\n",
    "        lista_print=[]\n",
    "        for i in range(len(EventoRecorrente.__LISTA)):\n",
    "            lista_print.append(f\"Evento: {self.titulo}, Data: {EventoRecorrente.__LISTA[i]}, Local: {self.descricao}, Concluido: {self._EventoABC__isConcluido(i)}\")\n",
    "        return \"\\n\".join(lista_print)\n",
    "    \n",
    "    def editar_data_hora(self,data_antiga, data_nova):\n",
    "            for i in range(len(EventoRecorrente.__LISTA)):\n",
    "                 if EventoRecorrente.__LISTA[i] == data_antiga:\n",
    "                      EventoRecorrente.__LISTA[i] = data_nova\n",
    "                      \n",
    "\n",
    "    def addLista(self):\n",
    "        data_atual = self.data_hora_inicial\n",
    "        EventoRecorrente.__LISTA.append(data_atual.data_hora)\n",
    "        x=1\n",
    "        while x<2:\n",
    "            data = data_atual.somaDias(self.intervalo)\n",
    "            data_atual = DataHora()\n",
    "            data_atual.data_hora = data\n",
    "            if data_atual._data_hora <= self.data_hora_final._data_hora: \n",
    "                 EventoRecorrente.__LISTA.append(data) \n",
    "            else: x=3\n",
    "\n",
    "             \n",
    "eventos = EventoRecorrente(\n",
    "    'Reunião', 'Sala 302, prédio da esquina', \n",
    "    '05/01/2024, 16:30', '05/01/2025, 16:30', 30)\n",
    "\n",
    "# imprimir eventos\n",
    "print(eventos)\n",
    "\n",
    "print(\"------------------------------------------\")\n",
    "\n",
    "# editar um dos eventos\n",
    "eventos.editar_data_hora('30/11/2024, 16:30', '30/11/2024, 11:30')\n",
    "\n",
    "# imprimir eventos\n",
    "print(eventos)\n",
    "\n"
   ]
  },
  {
   "cell_type": "markdown",
   "metadata": {},
   "source": [
    "#### Q4.\n",
    "\n",
    "Por fim, vamos só ver o polimorfismo em ação. Crie e preencha uma lista de eventos, sendo alguns do tipo `EventoUnico` e outros do tipo `EventoRecorrente`. Sobre essa lista, execute o laço de impressão a seguir:\n",
    "```python\n",
    "for evento in lista_eventos: print(evento)\n",
    "```\n",
    "A função `print` irá invocar o método especial `__str__` das classes correspondentes dependendo do tipo do objeto recebido. Aí está o polimorfismo :)"
   ]
  },
  {
   "cell_type": "code",
   "execution_count": 15,
   "metadata": {},
   "outputs": [
    {
     "name": "stdout",
     "output_type": "stream",
     "text": [
      "('Consulta', 'Av. Hera, 145, Sala 302', '13/02/2025, 15:30')\n",
      "Evento: Reunião, Data: 01/02/2024, 13:30, Local: Sala 302, prédio da esquina, Concluido: True\n",
      "Evento: Reunião, Data: 08/02/2024, 13:30, Local: Sala 302, prédio da esquina, Concluido: True\n",
      "Evento: Reunião, Data: 15/02/2024, 13:30, Local: Sala 302, prédio da esquina, Concluido: True\n",
      "Evento: Reunião, Data: 22/02/2024, 13:30, Local: Sala 302, prédio da esquina, Concluido: True\n",
      "Evento: Reunião, Data: 29/02/2024, 13:30, Local: Sala 302, prédio da esquina, Concluido: True\n",
      "('Aniversário', 'Salão do prédio', '07/09/2024, 17:00')\n",
      "('Casamento', 'Igreja matriz', '15/12/2024, 19:00')\n",
      "Evento: Aula, Data: 01/02/2024, 13:30, Local: Escola, sala 15, Concluido: True\n",
      "Evento: Aula, Data: 08/02/2024, 13:30, Local: Escola, sala 15, Concluido: True\n",
      "Evento: Aula, Data: 15/02/2024, 13:30, Local: Escola, sala 15, Concluido: True\n",
      "Evento: Aula, Data: 22/02/2024, 13:30, Local: Escola, sala 15, Concluido: True\n",
      "Evento: Aula, Data: 29/02/2024, 13:30, Local: Escola, sala 15, Concluido: True\n"
     ]
    }
   ],
   "source": [
    "consulta = 'Consulta', 'Av. Hera, 145, Sala 302', '13/02/2025, 15:30'\n",
    "reuniões = EventoRecorrente('Reunião', 'Sala 302, prédio da esquina', '05/01/2024, 16:30', '05/06/2024, 16:30', 30)\n",
    "aniversário = 'Aniversário', 'Salão do prédio', '07/09/2024, 17:00'\n",
    "casamento = 'Casamento', 'Igreja matriz', '15/12/2024, 19:00'\n",
    "aulas = EventoRecorrente('Aula', 'Escola, sala 15', '01/02/2024, 13:30', '05/03/2024, 16:30', 7)\n",
    "lista = [consulta,reuniões, aniversário, casamento, aulas]\n",
    "for evento in lista: print(evento)"
   ]
  }
 ],
 "metadata": {
  "kernelspec": {
   "display_name": "Python 3",
   "language": "python",
   "name": "python3"
  },
  "language_info": {
   "codemirror_mode": {
    "name": "ipython",
    "version": 3
   },
   "file_extension": ".py",
   "mimetype": "text/x-python",
   "name": "python",
   "nbconvert_exporter": "python",
   "pygments_lexer": "ipython3",
   "version": "3.12.2"
  }
 },
 "nbformat": 4,
 "nbformat_minor": 2
}
