{
 "cells": [
  {
   "cell_type": "markdown",
   "metadata": {},
   "source": [
    "> Projeto Desenvolve <br>\n",
    "Programação Intermediária com Python <br>\n",
    "Profa. Camila Laranjeira (mila@projetodesenvolve.com.br) <br>\n",
    "\n",
    "# 3.14 - ORM"
   ]
  },
  {
   "cell_type": "markdown",
   "metadata": {},
   "source": [
    "## Exercícios\n",
    "\n",
    "#### Q1. Conhecendo os dados\n",
    "Baixe o seguinte csv onde iremos trabalhar. Ele contém informações sobre salários de profissionais de dados de uma empresa hipotética entre 2009 e 2016\n",
    "* https://github.com/camilalaranjeira/python-intermediario/blob/main/salaries.csv\n",
    "\n",
    "Suas colunas, descritas na [página do Kaggle que contém o dataset](https://www.kaggle.com/datasets/krishujeniya/salary-prediction-of-data-professions?resource=download), são:\n",
    "* FIRST NAME: Primeiro nome do profissional de dados (String)\n",
    "* LAST NAME: Sobrenome do profissional de dados (String)\n",
    "* SEX: Gênero do profissional de dados (String: 'F' para Feminino, 'M' para Masculino)\n",
    "* DOJ (Date of Joining): A data em que o profissional de dados ingressou na empresa (Data no formato MM/DD/AAAA)\n",
    "* CURRENT DATE: A data atual ou a data de referência dos dados (Data no formato MM/DD/AAAA)\n",
    "* DESIGNATION: O cargo ou designação do profissional de dados (String: ex., Analista, Analista Sênior, Gerente)\n",
    "* AGE: Idade do profissional de dados (Integer)\n",
    "* SALARY: Salário anual do profissional de dados (Float)\n",
    "* UNIT: Unidade de negócios ou departamento em que o profissional de dados trabalha (String: ex., TI, Finanças, Marketing)\n",
    "* LEAVES USED: Número de licenças utilizadas pelo profissional de dados (Integer)\n",
    "* LEAVES REMAINING: Número de licenças restantes para o profissional de dados (Integer)\n",
    "* RATINGS: Avaliações de desempenho do profissional de dados (Float)\n",
    "* PAST EXP: Experiência de trabalho anterior em anos antes de ingressar na empresa atual (Float)\n",
    "\n",
    "Na célula a seguir, **carregue os dados do CSV e dê uma olhada neles antes de seguir**."
   ]
  },
  {
   "cell_type": "code",
   "execution_count": 146,
   "metadata": {},
   "outputs": [
    {
     "name": "stdout",
     "output_type": "stream",
     "text": [
      "     FIRST NAME   LAST NAME SEX         DOJ CURRENT DATE     DESIGNATION  \\\n",
      "0        TOMASA       ARMEN   F   5-18-2014   01-07-2016         Analyst   \n",
      "1         ANNIE         NaN   F         NaN   01-07-2016       Associate   \n",
      "2         OLIVE        ANCY   F   7-28-2014   01-07-2016         Analyst   \n",
      "3        CHERRY     AQUILAR   F  04-03-2013   01-07-2016         Analyst   \n",
      "4          LEON  ABOULAHOUD   M  11-20-2014   01-07-2016         Analyst   \n",
      "...         ...         ...  ..         ...          ...             ...   \n",
      "2634  KATHERINE      ALSDON   F   6-28-2011   01-07-2016  Senior Manager   \n",
      "2635     LOUISE     ALTARAS   F   1-14-2014   01-07-2016         Analyst   \n",
      "2636      RENEE      ALVINO   F   1-23-2014   01-07-2016         Analyst   \n",
      "2637       TERI   ANASTASIO   F   3-17-2014   01-07-2016         Analyst   \n",
      "2638    GREGORY      ABARCA   M   9-18-2014   01-07-2016         Analyst   \n",
      "\n",
      "       AGE  SALARY        UNIT  LEAVES USED  LEAVES REMAINING  RATINGS  \\\n",
      "0     21.0   44570     Finance         24.0               6.0      2.0   \n",
      "1      NaN   89207         Web          NaN              13.0      NaN   \n",
      "2     21.0   40955     Finance         23.0               7.0      3.0   \n",
      "3     22.0   45550          IT         22.0               8.0      3.0   \n",
      "4      NaN   43161  Operations         27.0               3.0      NaN   \n",
      "...    ...     ...         ...          ...               ...      ...   \n",
      "2634  36.0  185977  Management         15.0              15.0      5.0   \n",
      "2635  23.0   45758          IT         17.0              13.0      2.0   \n",
      "2636  21.0   47315         Web         29.0               1.0      5.0   \n",
      "2637  24.0   45172         Web         23.0               7.0      3.0   \n",
      "2638  24.0   49176   Marketing         17.0              13.0      2.0   \n",
      "\n",
      "      PAST EXP  \n",
      "0            0  \n",
      "1            7  \n",
      "2            0  \n",
      "3            0  \n",
      "4            3  \n",
      "...        ...  \n",
      "2634        10  \n",
      "2635         0  \n",
      "2636         0  \n",
      "2637         1  \n",
      "2638         2  \n",
      "\n",
      "[2639 rows x 13 columns]\n"
     ]
    }
   ],
   "source": [
    "import pandas as pd\n",
    "\n",
    "df=pd.read_csv('salaries.csv')\n",
    "print(df)\n"
   ]
  },
  {
   "cell_type": "markdown",
   "metadata": {},
   "source": [
    "#### Q2. Modelando os dados\n",
    "Você deve **criar um ORM com SQLAlchemy capaz de comportar os dados dessa base**.\n",
    "\n",
    "* Crie um campo de chave primária `ID`, que deve ser incrementado automaticamente\n",
    "* Os campos SEX, DESIGNATION e UNIT devem ser definidos como classes `Enum` com os possíveis valores (consulte os valores únicos dessas colunas)\n",
    "* Para os outros campos, consulte os tipos de dados informados na descrição acima"
   ]
  },
  {
   "cell_type": "code",
   "execution_count": 147,
   "metadata": {},
   "outputs": [],
   "source": [
    "from sqlalchemy.orm import DeclarativeBase, Mapped, mapped_column\n",
    "from sqlalchemy import Enum as SQLEnum\n",
    "from datetime import date\n",
    "from enum import Enum\n",
    "\n",
    "class Genero(Enum):\n",
    "    F = \"Feminino\"\n",
    "    M = \"Masculino\"\n",
    "\n",
    "class Designacao(Enum):\n",
    "    ANALYST = \"Analyst\"\n",
    "    SENIOR_ANALYST = \"Senior Analyst\"\n",
    "    ASSOCIATE = 'Associate'\n",
    "    MANAGER = \"Manager\"\n",
    "    DIRECTOR = \"Director\"\n",
    "    SENIOR_MANAGER = \"Senior Manager\"\n",
    "\n",
    "class Setor(Enum):\n",
    "    IT = \"IT\"\n",
    "    FINANCE = \"Finance\"\n",
    "    MARKETING = \"Marketing\"\n",
    "    WEB = \"Web\"\n",
    "    MANAGEMENT = \"Management\"\n",
    "    OPERATIONS = \"Operations\"\n",
    "\n",
    "class Base(DeclarativeBase):\n",
    "    pass\n",
    "\n",
    "class DataFuncionario(Base):\n",
    "    __tablename__ = 'funcionario'\n",
    "    \n",
    "    ID: Mapped[int]= mapped_column(primary_key=True)\n",
    "    first_name: Mapped[str] = mapped_column(nullable=False, name='FIRST NAME')\n",
    "    last_name: Mapped[str] = mapped_column(nullable=False)\n",
    "    sex: Mapped[Genero] =mapped_column(SQLEnum(Genero), nullable=False)\n",
    "    doj: Mapped[date] = mapped_column (nullable=False)\n",
    "    current_date: Mapped[date] = mapped_column (nullable=False)\n",
    "    designation: Mapped[Designacao] =mapped_column(SQLEnum(Designacao), nullable=False)\n",
    "    age: Mapped[int] = mapped_column(nullable=False)\n",
    "    salary: Mapped[float] = mapped_column(nullable=False)\n",
    "    unit: Mapped[Setor] =mapped_column(SQLEnum(Setor), nullable=False)\n",
    "    leaves_used: Mapped[int] = mapped_column(nullable=False)\n",
    "    leaves_remaining: Mapped[int] = mapped_column(nullable=False)\n",
    "    ratings: Mapped[float] = mapped_column(nullable=False)\n",
    "    past_exp: Mapped[float] = mapped_column(nullable=False)\n",
    "\n",
    "\n"
   ]
  },
  {
   "cell_type": "markdown",
   "metadata": {
    "vscode": {
     "languageId": "plaintext"
    }
   },
   "source": [
    "#### Q3. Estabelecendo uma conexão\n",
    "\n",
    "Usando o método `create_engine` do SQLAlchemy, crie uma conexão com um novo banco de dados SQLite chamado `salarios`."
   ]
  },
  {
   "cell_type": "code",
   "execution_count": 148,
   "metadata": {},
   "outputs": [],
   "source": [
    "from sqlalchemy import create_engine\n",
    "engine = create_engine('sqlite:///salarios2.db')\n"
   ]
  },
  {
   "cell_type": "markdown",
   "metadata": {},
   "source": [
    "#### Q4. Criando as tabelas\n",
    "Crie as tabelas da questão Q2 no banco `salarios`."
   ]
  },
  {
   "cell_type": "code",
   "execution_count": 149,
   "metadata": {},
   "outputs": [],
   "source": [
    "Base.metadata.create_all(engine)"
   ]
  },
  {
   "cell_type": "markdown",
   "metadata": {},
   "source": [
    "#### Q5. Populando\n",
    "\n",
    "Usando o método `to_sql` da biblioteca Pandas (veja [a documentação](https://pandas.pydata.org/docs/reference/api/pandas.DataFrame.to_sql.html)), popule o banco `salarios` com os dados do csv que você carregou na questão Q1.\n",
    "* Lembre-se de definir o parâmetro `if_exists='append'` para que as tabelas não sejam dropadas e recriadas."
   ]
  },
  {
   "cell_type": "code",
   "execution_count": 150,
   "metadata": {},
   "outputs": [
    {
     "data": {
      "text/plain": [
       "2639"
      ]
     },
     "execution_count": 150,
     "metadata": {},
     "output_type": "execute_result"
    }
   ],
   "source": [
    "df.columns = [col.upper() for col in df.columns]\n",
    "df.to_sql('funcionario', con=engine, if_exists='append', index=False)"
   ]
  },
  {
   "cell_type": "markdown",
   "metadata": {},
   "source": [
    "#### Q6. Consultas SQL vs ORM\n",
    "\n",
    "Agrupe os dados por DESIGNATION e selecione o mínimo, máximo e a média dos salários (SALARY) divididos por 12. Já que o atributo SALARY é anual, dividir por 12 nos mostrará os valores mensais.\n",
    "\n",
    "Assumindo que a variável que armazena a sua conexão se chama `engine`, você deve realizar a query acima de três formas:\n",
    "* Executando a query SQL através de uma instância de conexão retornada pelo método `engine.connect()`\n",
    "* Executando a query SQL com o método `read_sql_query` do Pandas (veja [a documentação](https://pandas.pydata.org/docs/reference/api/pandas.read_sql_query.html)). Você usará mesma instância `engine.connect()` como um dos parâmetros.\n",
    "* Executando uma query criada com o módulo `select` do SQLAlchemy. Sua execução deve ser feita através de um objeto `Session` do módulo `orm` do SQLAlchemy (`Session(engine)`).\n"
   ]
  },
  {
   "cell_type": "code",
   "execution_count": 151,
   "metadata": {},
   "outputs": [
    {
     "name": "stdout",
     "output_type": "stream",
     "text": [
      "Designação: Analyst, Mínimo: 3333.00, Máximo: 4165.00, Média: 3751.22\n",
      "Designação: Associate, Mínimo: 5846.00, Máximo: 8300.00, Média: 7266.47\n",
      "Designação: Director, Mínimo: 17832.00, Máximo: 32342.00, Média: 23913.94\n",
      "Designação: Manager, Mínimo: 8343.00, Máximo: 12407.00, Média: 10522.25\n",
      "Designação: Senior Analyst, Mínimo: 4170.00, Máximo: 5830.00, Média: 4991.33\n",
      "Designação: Senior Manager, Mínimo: 12614.00, Máximo: 16631.00, Média: 14888.23\n"
     ]
    }
   ],
   "source": [
    "from sqlalchemy import text\n",
    "with engine.connect() as connection:\n",
    "    query = \"\"\"\n",
    "    SELECT \n",
    "        designation,\n",
    "        MIN(salary / 12) AS minimo_mensal,\n",
    "        MAX(salary / 12) AS maximo_mensal,\n",
    "        AVG(salary / 12) AS media_mensal\n",
    "    FROM funcionario\n",
    "    GROUP BY designation\n",
    "    \"\"\"\n",
    "    \n",
    "\n",
    "    result = connection.execute(text(query))\n",
    "    \n",
    "    for row in result:\n",
    "        print(f\"Designação: {row[0]}, Mínimo: {row[1]:.2f}, Máximo: {row[2]:.2f}, Média: {row[3]:.2f}\")\n"
   ]
  },
  {
   "cell_type": "code",
   "execution_count": 152,
   "metadata": {},
   "outputs": [
    {
     "name": "stdout",
     "output_type": "stream",
     "text": [
      "      DESIGNATION  minimo_mensal  maximo_mensal  media_mensal\n",
      "0         Analyst           3333           4165   3751.217034\n",
      "1       Associate           5846           8300   7266.465409\n",
      "2        Director          17832          32342  23913.937500\n",
      "3         Manager           8343          12407  10522.246914\n",
      "4  Senior Analyst           4170           5830   4991.325843\n",
      "5  Senior Manager          12614          16631  14888.225806\n"
     ]
    }
   ],
   "source": [
    "with engine.connect() as connection:\n",
    "    df_result = pd.read_sql_query(sql=text(query), con=connection)\n",
    "print(df_result)"
   ]
  },
  {
   "cell_type": "code",
   "execution_count": 153,
   "metadata": {},
   "outputs": [
    {
     "name": "stdout",
     "output_type": "stream",
     "text": [
      "Designação: ANALYST, Mínimo: 3333.42, Máximo: 4165.00, Média: 3751.68 \n",
      "Designação: ASSOCIATE, Mínimo: 5846.17, Máximo: 8300.25, Média: 7266.92 \n",
      "Designação: DIRECTOR, Mínimo: 17832.25, Máximo: 32342.67, Média: 23914.27 \n",
      "Designação: MANAGER, Mínimo: 8343.67, Máximo: 12407.50, Média: 10522.72 \n",
      "Designação: SENIOR ANALYST, Mínimo: 4170.33, Máximo: 5830.50, Média: 4991.78 \n",
      "Designação: SENIOR MANAGER, Mínimo: 12614.42, Máximo: 16631.42, Média: 14888.69 \n"
     ]
    }
   ],
   "source": [
    "from sqlalchemy.orm import Session\n",
    "from sqlalchemy import func, select\n",
    "\n",
    "with Session(engine) as session:\n",
    "    query = (\n",
    "        select(\n",
    "            func.upper(DataFuncionario.designation).label(\"DESIGNATION\"),\n",
    "            func.min(DataFuncionario.salary / 12).label(\"mininmo_mensal\"),\n",
    "            func.max(DataFuncionario.salary / 12).label(\"maximo_mensal\"),\n",
    "            func.avg(DataFuncionario.salary / 12).label(\"media_mensal\"),\n",
    "        )\n",
    "        .group_by(DataFuncionario.designation)\n",
    "    )\n",
    "    \n",
    "    result = session.execute(query)\n",
    "\n",
    "    for row in result:\n",
    "        print(f\"Designação: {row[0]}, Mínimo: {row[1]:.2f}, Máximo: {row[2]:.2f}, Média: {row[3]:.2f} \")\n"
   ]
  }
 ],
 "metadata": {
  "kernelspec": {
   "display_name": "Python 3",
   "language": "python",
   "name": "python3"
  },
  "language_info": {
   "codemirror_mode": {
    "name": "ipython",
    "version": 3
   },
   "file_extension": ".py",
   "mimetype": "text/x-python",
   "name": "python",
   "nbconvert_exporter": "python",
   "pygments_lexer": "ipython3",
   "version": "3.12.2"
  }
 },
 "nbformat": 4,
 "nbformat_minor": 2
}
