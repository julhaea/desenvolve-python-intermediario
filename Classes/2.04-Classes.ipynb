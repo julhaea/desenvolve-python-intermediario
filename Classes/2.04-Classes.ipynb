{
 "cells": [
  {
   "cell_type": "markdown",
   "metadata": {},
   "source": [
    "> Projeto Desenvolve <br>\n",
    "Programação Intermediária com Python <br>\n",
    "Profa. Camila Laranjeira (mila@projetodesenvolve.com.br) <br>\n",
    "\n",
    "# 2.4 - Classes, atributos e métodos"
   ]
  },
  {
   "cell_type": "markdown",
   "metadata": {},
   "source": [
    "'## Exercícios\n",
    "\n",
    "#### Q1.\n",
    "Vamos criar aos pouquinhos uma classe Evento que registra eventos de um calendário. Pra começar, nessa questão você deve:\n",
    "\n",
    "* Criar uma classe chamada Evento\n",
    "* Adicionar um atributo de classe `total_eventos` que será usado para contar o número total de eventos (instâncias de classe) criadas.\n",
    "* Implemente o método construtor que deve receber os parâmetros `titulo` (`string`), `data_hora` (`datetime`), `descrição` (`string`). Crie e inicialize um atributo de instância para cada um dos parâmetros citados.\n",
    "* O construtor também deve inicializar um atributo de instância `is_concluido = False`. Esse atributo será utilizado mais à frente. \n",
    "* No construtor você também deve incrementar o atributo de classe `total_eventos` em 1 a cada nova instância criada.\n",
    "\n",
    "Teste o seu código criando duas diferentes instâncias de evento (preencha os atributos como quiser) e imprimindo todos os seus atributos (de classe e de instância).\n",
    "\n",
    "> Consulte [este tutorial biblioteca `datetime`](https://www.w3schools.com/python/python_datetime.asp) caso não esteja familiarizado.'"
   ]
  },
  {
   "cell_type": "code",
   "execution_count": 16,
   "metadata": {},
   "outputs": [
    {
     "name": "stdout",
     "output_type": "stream",
     "text": [
      "Aniversário\n",
      "2024-11-17 20:00:00\n",
      "casa\n",
      "False\n",
      "1\n",
      "---------------\n",
      "Reunião\n",
      "2024-10-29 09:30:00\n",
      "online\n",
      "False\n",
      "2\n"
     ]
    }
   ],
   "source": [
    "import datetime\n",
    "\n",
    "class Evento:\n",
    "    total_de_eventos = 0\n",
    "\n",
    "    def __init__(self, titulo='', data_hora=datetime.datetime.now(), descricao=\"\"):\n",
    "        self.titulo = titulo\n",
    "        self.data_hora = data_hora\n",
    "        self.descricao = descricao\n",
    "        self.is_concluido = False \n",
    "        Evento.total_de_eventos += 1 \n",
    "\n",
    "\n",
    "aniversario = Evento(\"Aniversário\", datetime.datetime(2024, 11, 17, 20, 00), \"casa\")\n",
    "print(aniversario.titulo)\n",
    "print(aniversario.data_hora)\n",
    "print(aniversario.descricao)\n",
    "print(aniversario.is_concluido)\n",
    "print(aniversario.total_de_eventos)\n",
    "print(\"---------------\")\n",
    "reuniao = Evento(\"Reunião\", datetime.datetime(2024, 10, 29, 9, 30), \"online\")\n",
    "print(reuniao.titulo)\n",
    "print(reuniao.data_hora)\n",
    "print(reuniao.descricao)\n",
    "print(reuniao.is_concluido)\n",
    "print(reuniao.total_de_eventos) \n",
    "\n",
    "\n"
   ]
  },
  {
   "cell_type": "markdown",
   "metadata": {},
   "source": [
    "#### Q2.\n",
    "Agora vamos adicionar métodos à nossa classe. Lembre dos diferentes decoradores que aprendemos. Você deve redefinir a classe com os seguintes métodos:\n",
    "* Um método `isConcluido()` que avalia se a `data_hora` do evento é menor que `datetime.now()` (a data e hora atual). Em caso positivo, atualiza o atributo de instância `is_concluido` para o valor `True`. \n",
    "* Um método de classe `num_eventos()` que retorna o valor do atributo de classe `total_eventos`.\n",
    "* Um método estático `valida_evento(nome, data_hora, descricao)` que recebe os atributos de um evento e testa os tipos de cada variável, retornando `True` caso todos estejam corretos e `False` caso contrário. Para o teste, use a função nativa do Python [`isinstance`](https://www.w3schools.com/python/ref_func_isinstance.asp).\n",
    "\n",
    "Para testar sua classe atualizada:\n",
    "* Crie uma instância de Evento com valor passado e chame o método `isConcluido()` para a instância criada. Em seguida imprima o atributo `is_concluido`. \n",
    "* Invoque o método de classe `num_eventos()` a partir da classe Evento (ou seja, sem criar nenhuma instância).\n",
    "* Chame o método estático `valida_evento()` a partir da classe Evento. Experimente passar valores corretos e incorretos. \n"
   ]
  },
  {
   "cell_type": "code",
   "execution_count": 12,
   "metadata": {},
   "outputs": [
    {
     "name": "stdout",
     "output_type": "stream",
     "text": [
      "Há um erro no tipo dos parâmetros\n",
      "4\n",
      "False\n",
      "True\n"
     ]
    }
   ],
   "source": [
    "import datetime\n",
    "\n",
    "class Evento:\n",
    "    total_de_eventos = 0\n",
    "\n",
    "    def __init__(self, titulo='', data_hora=datetime.datetime.now(), descricao=\"\"):\n",
    "        self.titulo = titulo\n",
    "        self.data_hora = data_hora\n",
    "        self.descricao = descricao\n",
    "        self.is_concluido = False \n",
    "        Evento.total_de_eventos += 1\n",
    "        self.isConcluido()\n",
    "\n",
    "\n",
    "    def isConcluido(self):\n",
    "        if Evento.valida_evento(self.titulo,self.data_hora,self.descricao):\n",
    "            if self.data_hora < datetime.datetime.now():\n",
    "                self.is_concluido = True\n",
    "    \n",
    "    @classmethod\n",
    "    def num_eventos(cls):\n",
    "        print(cls.total_de_eventos)\n",
    "    @staticmethod\n",
    "    def valida_evento(titulo,data_hora, descricao):\n",
    "        if isinstance(titulo, str) and isinstance(data_hora, datetime.datetime) and isinstance(descricao, str):\n",
    "            return True\n",
    "        else: print(\"Há um erro no tipo dos parâmetros\")\n",
    "\n",
    "\n",
    "aniversario = Evento(\"Aniversário\", datetime.datetime(2024, 11, 17, 20, 00), \"casa\")\n",
    "casamento = Evento(\"Casamento\", datetime.datetime(2024,5,13, 18,00),\"Carla e Diego\")\n",
    "reuniao = Evento(\"Reunião\", datetime.datetime(2024, 10, 29, 9, 30), \"online\")\n",
    "consulta = Evento(\"consulta\",\"amanhã\", \"oftalmologista\")\n",
    " \n",
    "Evento.num_eventos()\n",
    "\n",
    "print(aniversario.is_concluido)\n",
    "print(casamento.is_concluido)\n",
    "\n"
   ]
  },
  {
   "cell_type": "markdown",
   "metadata": {
    "vscode": {
     "languageId": "plaintext"
    }
   },
   "source": [
    "#### Q3.\n",
    "\n",
    "Vamos incluir métodos mágicos! ✨🪄🔮\n",
    "\n",
    "Redefina a classe incluindo\":\n",
    "* Método `__str__` que imprime os atributos do evento na forma `\"Evento: titulo, Data: data_hora, Descrição: descricao, Concluido: is_concluido\"`.\n",
    "* Implemente os métodos de comparação `__eq__`, `__ne__`, `__lt__`, `__le__`, `__gt__` e `__ge__` para comparar eventos baseados no atributo `data_hora`. Esses métodos devem comparar duas instâncias de Evento e retornar os resultados apropriados (`True` ou `False`).\n",
    "\n",
    "Para testar, crie duas instâncias de Evento com datas diferentes. Imprima as instâncias com a função `print()` e apresente o resultado das comparações entre eventos (`==`, `!=`, `<`, `<=`, `>`, `>=`)."
   ]
  },
  {
   "cell_type": "code",
   "execution_count": 27,
   "metadata": {},
   "outputs": [
    {
     "name": "stdout",
     "output_type": "stream",
     "text": [
      "Evento: Aniversário, Data: 2024-11-17 20:00:00, Descricao: casa, Concluido: False\n",
      "False\n",
      "True\n",
      "True\n",
      "True\n",
      "False\n",
      "False\n"
     ]
    }
   ],
   "source": [
    "import datetime\n",
    "\n",
    "class Evento:\n",
    "    total_de_eventos = 0\n",
    "\n",
    "    def __init__(self, titulo='', data_hora=datetime.datetime.now(), descricao=\"\"):\n",
    "        self.titulo = titulo\n",
    "        self.data_hora = data_hora\n",
    "        self.descricao = descricao\n",
    "        self.is_concluido = False \n",
    "        Evento.total_de_eventos += 1\n",
    "        self.isConcluido()\n",
    "\n",
    "\n",
    "    def isConcluido(self):\n",
    "        if self.data_hora < datetime.datetime.now():\n",
    "            self.is_concluido = True\n",
    "    def __str__(self) -> str:\n",
    "        return f\"Evento: {self.titulo}, Data: {self.data_hora}, Descricao: {self.descricao}, Concluido: {self.is_concluido}\"\n",
    "    \n",
    "    def __eq__(evento1, evento2):\n",
    "        return evento1.data_hora == evento2.data_hora\n",
    "    def __ne__(evento1,evento2):\n",
    "        return evento1.data_hora != evento2.data_hora\n",
    "    def __lt__(evento1,evento2):\n",
    "        return evento1.data_hora < evento2.data_hora\n",
    "    def __le__(evento1,evento2):\n",
    "        return evento1.data_hora <= evento2.data_hora\n",
    "    def __gt__ (evento1,evento2):\n",
    "        return evento1.data_hora > evento2.data_hora\n",
    "    def __ge__(evento1,evento2):\n",
    "        return evento1.data_hora >= evento2.data_hora\n",
    "\n",
    "\n",
    "\n",
    "\n",
    "aniversario = Evento(\"Aniversário\", datetime.datetime(2024, 11, 17, 20, 00), \"casa\")\n",
    "reuniao = Evento(\"Reunião\", datetime.datetime(2024, 10, 29, 9, 30), \"online\")\n",
    "\n",
    "print(aniversario)\n",
    "print(reuniao == aniversario)\n",
    "print(reuniao != aniversario)\n",
    "print(reuniao < aniversario)\n",
    "print(reuniao <= aniversario)\n",
    "print(reuniao > aniversario)\n",
    "print(reuniao >= aniversario)\n",
    "\n"
   ]
  }
 ],
 "metadata": {
  "kernelspec": {
   "display_name": "Python 3",
   "language": "python",
   "name": "python3"
  },
  "language_info": {
   "codemirror_mode": {
    "name": "ipython",
    "version": 3
   },
   "file_extension": ".py",
   "mimetype": "text/x-python",
   "name": "python",
   "nbconvert_exporter": "python",
   "pygments_lexer": "ipython3",
   "version": "3.12.2"
  }
 },
 "nbformat": 4,
 "nbformat_minor": 2
}
